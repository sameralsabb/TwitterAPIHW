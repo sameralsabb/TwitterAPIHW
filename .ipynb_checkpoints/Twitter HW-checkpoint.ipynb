{
 "cells": [
  {
   "cell_type": "code",
   "execution_count": 1,
   "metadata": {},
   "outputs": [],
   "source": [
    "import tweepy\n",
    "import numpy as np\n",
    "import pandas as pd\n",
    "import matplotlib.pyplot as plt\n",
    "%matplotlib inline\n",
    "import numpy as np\n",
    "from twitter_config import consumer_key, consumer_key_secret, access_token, access_token_secret\n",
    "from vaderSentiment.vaderSentiment import SentimentIntensityAnalyzer\n",
    "from datetime import datetime"
   ]
  },
  {
   "cell_type": "code",
   "execution_count": 2,
   "metadata": {},
   "outputs": [],
   "source": [
    "auth = tweepy.OAuthHandler(consumer_key, consumer_key_secret)\n",
    "auth.set_access_token(access_token, access_token_secret)\n",
    "api = tweepy.API(auth, parser=tweepy.parsers.JSONParser())"
   ]
  },
  {
   "cell_type": "code",
   "execution_count": 3,
   "metadata": {},
   "outputs": [],
   "source": [
    "analyzer = SentimentIntensityAnalyzer()\n",
    "\n",
    "target_user = ['@BBC', '@CBS', '@Fox', '@CNN', '@nytimes']\n",
    "\n",
    "sentiments = []\n",
    "\n",
    "for x in range(5):\n",
    "    \n",
    "    for target in target_user:\n",
    "        public_tweets = api.user_timeline(target)\n",
    "        \n",
    "        for tweet in public_tweets:\n",
    "            \n",
    "            results = analyzer.polarity_scores(tweet[\"text\"])\n",
    "            compound = results[\"compound\"]\n",
    "            pos = results[\"pos\"]\n",
    "            neu = results[\"neu\"]\n",
    "            neg = results[\"neg\"]\n",
    "            \n",
    "            sentiments.append({\"Date\": tweet[\"created_at\"],\n",
    "                              \"Screen_Name\": tweet['user']['screen_name'],\n",
    "                              \"Compound\": compound,\n",
    "                              \"Positive\": pos,\n",
    "                              \"Negative\": neg,\n",
    "                              \"Neutral\": neu})"
   ]
  },
  {
   "cell_type": "code",
   "execution_count": 4,
   "metadata": {},
   "outputs": [
    {
     "data": {
      "text/html": [
       "<div>\n",
       "<style scoped>\n",
       "    .dataframe tbody tr th:only-of-type {\n",
       "        vertical-align: middle;\n",
       "    }\n",
       "\n",
       "    .dataframe tbody tr th {\n",
       "        vertical-align: top;\n",
       "    }\n",
       "\n",
       "    .dataframe thead th {\n",
       "        text-align: right;\n",
       "    }\n",
       "</style>\n",
       "<table border=\"1\" class=\"dataframe\">\n",
       "  <thead>\n",
       "    <tr style=\"text-align: right;\">\n",
       "      <th></th>\n",
       "      <th>Compound</th>\n",
       "      <th>Date</th>\n",
       "      <th>Negative</th>\n",
       "      <th>Neutral</th>\n",
       "      <th>Positive</th>\n",
       "      <th>Screen_Name</th>\n",
       "    </tr>\n",
       "  </thead>\n",
       "  <tbody>\n",
       "    <tr>\n",
       "      <th>0</th>\n",
       "      <td>0.4019</td>\n",
       "      <td>Sun Jul 08 21:07:05 +0000 2018</td>\n",
       "      <td>0.000</td>\n",
       "      <td>0.787</td>\n",
       "      <td>0.213</td>\n",
       "      <td>BBC</td>\n",
       "    </tr>\n",
       "    <tr>\n",
       "      <th>1</th>\n",
       "      <td>-0.6908</td>\n",
       "      <td>Sun Jul 08 20:52:12 +0000 2018</td>\n",
       "      <td>0.207</td>\n",
       "      <td>0.793</td>\n",
       "      <td>0.000</td>\n",
       "      <td>BBC</td>\n",
       "    </tr>\n",
       "    <tr>\n",
       "      <th>2</th>\n",
       "      <td>0.0000</td>\n",
       "      <td>Sun Jul 08 20:05:00 +0000 2018</td>\n",
       "      <td>0.000</td>\n",
       "      <td>1.000</td>\n",
       "      <td>0.000</td>\n",
       "      <td>BBC</td>\n",
       "    </tr>\n",
       "    <tr>\n",
       "      <th>3</th>\n",
       "      <td>0.0000</td>\n",
       "      <td>Sun Jul 08 19:04:02 +0000 2018</td>\n",
       "      <td>0.000</td>\n",
       "      <td>1.000</td>\n",
       "      <td>0.000</td>\n",
       "      <td>BBC</td>\n",
       "    </tr>\n",
       "    <tr>\n",
       "      <th>4</th>\n",
       "      <td>-0.6908</td>\n",
       "      <td>Sun Jul 08 18:04:02 +0000 2018</td>\n",
       "      <td>0.439</td>\n",
       "      <td>0.561</td>\n",
       "      <td>0.000</td>\n",
       "      <td>BBC</td>\n",
       "    </tr>\n",
       "  </tbody>\n",
       "</table>\n",
       "</div>"
      ],
      "text/plain": [
       "   Compound                            Date  Negative  Neutral  Positive  \\\n",
       "0    0.4019  Sun Jul 08 21:07:05 +0000 2018     0.000    0.787     0.213   \n",
       "1   -0.6908  Sun Jul 08 20:52:12 +0000 2018     0.207    0.793     0.000   \n",
       "2    0.0000  Sun Jul 08 20:05:00 +0000 2018     0.000    1.000     0.000   \n",
       "3    0.0000  Sun Jul 08 19:04:02 +0000 2018     0.000    1.000     0.000   \n",
       "4   -0.6908  Sun Jul 08 18:04:02 +0000 2018     0.439    0.561     0.000   \n",
       "\n",
       "  Screen_Name  \n",
       "0         BBC  \n",
       "1         BBC  \n",
       "2         BBC  \n",
       "3         BBC  \n",
       "4         BBC  "
      ]
     },
     "execution_count": 4,
     "metadata": {},
     "output_type": "execute_result"
    }
   ],
   "source": [
    "df_twitter = pd.DataFrame(sentiments)\n",
    "\n",
    "df_twitter.head()"
   ]
  },
  {
   "cell_type": "code",
   "execution_count": 5,
   "metadata": {},
   "outputs": [],
   "source": [
    "df_twitter.to_csv('Sentiment_analysis_Twitter.csv', index=False)"
   ]
  },
  {
   "cell_type": "code",
   "execution_count": 6,
   "metadata": {},
   "outputs": [],
   "source": [
    "BBC = df_twitter[df_twitter['Screen_Name'] == 'BBC']\n",
    "CBS = df_twitter[df_twitter['Screen_Name'] == 'CBS']\n",
    "Fox = df_twitter[df_twitter['Screen_Name'] == 'Fox']\n",
    "CNN = df_twitter[df_twitter['Screen_Name'] == 'CNN']\n",
    "NYT = df_twitter[df_twitter['Screen_Name'] == 'nytimes']"
   ]
  },
  {
   "cell_type": "code",
   "execution_count": 16,
   "metadata": {},
   "outputs": [
    {
     "data": {
      "image/png": "[encoded data removed]",
      "text/plain": [
       "<matplotlib.figure.Figure at 0x2bdaebbd780>"
      ]
     },
     "metadata": {},
     "output_type": "display_data"
    }
   ],
   "source": [
    "x_values = np.arange(1,BBC.shape[0]+1)\n",
    "\n",
    "plt.scatter(x_values[::-1], BBC['Compound'], edgecolors='black',label='BBC')\n",
    "\n",
    "plt.scatter(x_values[::-1], CBS['Compound'], edgecolors='black', color='white',label='CBS')\n",
    "plt.scatter(x_values[::-1], CNN['Compound'], edgecolors='black', color='yellow',label='CNN')\n",
    "plt.scatter(x_values[::-1], NYT['Compound'], edgecolors='black', color='orange',label='NYT')\n",
    "\n",
    "\n",
    "plt.legend(frameon=True, shadow= True, edgecolor='black', fontsize = 'large', title='Media')\n",
    "plt.xlim(0,100)\n",
    "plt.xlabel('Tweets ago', fontsize='20')\n",
    "plt.ylabel('Tweet Polarity', fontsize='20')\n",
    "\n",
    "now = datetime.now()\n",
    "now = now.strftime('%m/%d/%Y')\n",
    "plt.title('Sentiment Analysis of Media Tweets ({})'.format(now,fontsize=(20)))\n",
    "\n",
    "plt.xlim(100,0);"
   ]
  },
  {
   "cell_type": "code",
   "execution_count": 18,
   "metadata": {},
   "outputs": [
    {
     "name": "stderr",
     "output_type": "stream",
     "text": [
      "C:\\Users\\pinkp\\Anaconda3\\lib\\site-packages\\ipykernel_launcher.py:4: FutureWarning: Using 'rename_axis' to alter labels is deprecated. Use '.rename' instead\n",
      "  after removing the cwd from sys.path.\n"
     ]
    },
    {
     "data": {
      "text/html": [
       "<style  type=\"text/css\" >\n",
       "    #T_6f30a5b4_8321_11e8_aa44_7c67a2b75d08row0_col1 {\n",
       "            width:  10em;\n",
       "             height:  80%;\n",
       "            background:  linear-gradient(90deg, transparent 0%, transparent 0.0%, red 0.0%, red 27.7%, transparent 27.7%);\n",
       "        }    #T_6f30a5b4_8321_11e8_aa44_7c67a2b75d08row1_col1 {\n",
       "            width:  10em;\n",
       "             height:  80%;\n",
       "            background:  linear-gradient(90deg, transparent 0%, transparent 0.0%, red 0.0%, red 100.0%, transparent 100.0%);\n",
       "        }    #T_6f30a5b4_8321_11e8_aa44_7c67a2b75d08row2_col1 {\n",
       "            width:  10em;\n",
       "             height:  80%;\n",
       "            background:  linear-gradient(90deg, transparent 0%, transparent 0.0%, red 0.0%, red 47.2%, transparent 47.2%);\n",
       "        }    #T_6f30a5b4_8321_11e8_aa44_7c67a2b75d08row3_col1 {\n",
       "            width:  10em;\n",
       "             height:  80%;\n",
       "            background:  linear-gradient(90deg, transparent 0%, transparent 0.0%, red 0.0%, red 76.5%, transparent 76.5%);\n",
       "        }    #T_6f30a5b4_8321_11e8_aa44_7c67a2b75d08row4_col1 {\n",
       "            width:  10em;\n",
       "             height:  80%;\n",
       "            background:  linear-gradient(90deg, transparent 0%, transparent 0.0%, red 0.0%, red 18.9%, transparent 18.9%);\n",
       "        }</style>  \n",
       "<table id=\"T_6f30a5b4_8321_11e8_aa44_7c67a2b75d08\" > \n",
       "<thead>    <tr> \n",
       "        <th class=\"blank level0\" ></th> \n",
       "        <th class=\"col_heading level0 col0\" >Media Sources</th> \n",
       "        <th class=\"col_heading level0 col1\" >Avg. Compound</th> \n",
       "    </tr></thead> \n",
       "<tbody>    <tr> \n",
       "        <th id=\"T_6f30a5b4_8321_11e8_aa44_7c67a2b75d08level0_row0\" class=\"row_heading level0 row0\" >0</th> \n",
       "        <td id=\"T_6f30a5b4_8321_11e8_aa44_7c67a2b75d08row0_col0\" class=\"data row0 col0\" >BBC</td> \n",
       "        <td id=\"T_6f30a5b4_8321_11e8_aa44_7c67a2b75d08row0_col1\" class=\"data row0 col1\" >0.0879</td> \n",
       "    </tr>    <tr> \n",
       "        <th id=\"T_6f30a5b4_8321_11e8_aa44_7c67a2b75d08level0_row1\" class=\"row_heading level0 row1\" >1</th> \n",
       "        <td id=\"T_6f30a5b4_8321_11e8_aa44_7c67a2b75d08row1_col0\" class=\"data row1 col0\" >CBS</td> \n",
       "        <td id=\"T_6f30a5b4_8321_11e8_aa44_7c67a2b75d08row1_col1\" class=\"data row1 col1\" >0.31751</td> \n",
       "    </tr>    <tr> \n",
       "        <th id=\"T_6f30a5b4_8321_11e8_aa44_7c67a2b75d08level0_row2\" class=\"row_heading level0 row2\" >2</th> \n",
       "        <td id=\"T_6f30a5b4_8321_11e8_aa44_7c67a2b75d08row2_col0\" class=\"data row2 col0\" >CNN</td> \n",
       "        <td id=\"T_6f30a5b4_8321_11e8_aa44_7c67a2b75d08row2_col1\" class=\"data row2 col1\" >0.149735</td> \n",
       "    </tr>    <tr> \n",
       "        <th id=\"T_6f30a5b4_8321_11e8_aa44_7c67a2b75d08level0_row3\" class=\"row_heading level0 row3\" >3</th> \n",
       "        <td id=\"T_6f30a5b4_8321_11e8_aa44_7c67a2b75d08row3_col0\" class=\"data row3 col0\" >fox</td> \n",
       "        <td id=\"T_6f30a5b4_8321_11e8_aa44_7c67a2b75d08row3_col1\" class=\"data row3 col1\" >0.242995</td> \n",
       "    </tr>    <tr> \n",
       "        <th id=\"T_6f30a5b4_8321_11e8_aa44_7c67a2b75d08level0_row4\" class=\"row_heading level0 row4\" >4</th> \n",
       "        <td id=\"T_6f30a5b4_8321_11e8_aa44_7c67a2b75d08row4_col0\" class=\"data row4 col0\" >nytimes</td> \n",
       "        <td id=\"T_6f30a5b4_8321_11e8_aa44_7c67a2b75d08row4_col1\" class=\"data row4 col1\" >0.060095</td> \n",
       "    </tr></tbody> \n",
       "</table> "
      ],
      "text/plain": [
       "<pandas.io.formats.style.Styler at 0x2bdaf197828>"
      ]
     },
     "execution_count": 18,
     "metadata": {},
     "output_type": "execute_result"
    }
   ],
   "source": [
    "df_twitter_avg_compound = df_twitter.groupby(['Screen_Name'])[\"Compound\"].mean().reset_index()\n",
    "\n",
    "df_twitter_avg_compound.rename_axis({'Screen_Name': 'Media Sources',\n",
    "                                    'Compound': 'Avg. Compound'}, axis=1, inplace=True)\n",
    "\n",
    "df_twitter_avg_compound.style.bar(subset=['Avg. Compound'], align='mid', color=['blue', 'red'])"
   ]
  },
  {
   "cell_type": "code",
   "execution_count": 21,
   "metadata": {},
   "outputs": [
    {
     "data": {
      "image/png": "[encoded data removed]",
      "text/plain": [
       "<matplotlib.figure.Figure at 0x2bdaf3d55c0>"
      ]
     },
     "metadata": {},
     "output_type": "display_data"
    }
   ],
   "source": [
    "plt.figure(figsize=(10,5))\n",
    "df_twitter.groupby([\"Screen_Name\"])[\"Compound\"].mean().plot(kind='bar',color=['r','b','y','g'])\n",
    "\n",
    "plt.ylabel('Tweet Polarity', fontsize='20')\n",
    "plt.xlabel('Media Sources', fontsize='20')\n",
    "plt.xticks(rotation=0)\n",
    "now = datetime.now()\n",
    "now = now.strftime(\"%m/%d/%Y\")\n",
    "plt.title('Overall Media Sentiment based on Twitter ({})'.format(now),fontsize=(20));\n",
    "plt.grid()"
   ]
  },
  {
   "cell_type": "code",
   "execution_count": null,
   "metadata": {},
   "outputs": [],
   "source": []
  }
 ],
 "metadata": {
  "kernelspec": {
   "display_name": "Python 3",
   "language": "python",
   "name": "python3"
  },
  "language_info": {
   "codemirror_mode": {
    "name": "ipython",
    "version": 3
   },
   "file_extension": ".py",
   "mimetype": "text/x-python",
   "name": "python",
   "nbconvert_exporter": "python",
   "pygments_lexer": "ipython3",
   "version": "3.6.4"
  }
 },
 "nbformat": 4,
 "nbformat_minor": 2
}
